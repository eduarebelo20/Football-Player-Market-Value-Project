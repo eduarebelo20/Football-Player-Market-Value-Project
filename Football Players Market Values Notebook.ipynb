{
 "cells": [
  {
   "cell_type": "code",
   "execution_count": 1037,
   "metadata": {},
   "outputs": [],
   "source": [
    "import pandas as pd\n",
    "import numpy as np\n",
    "import scipy.stats as st"
   ]
  },
  {
   "cell_type": "code",
   "execution_count": 1038,
   "metadata": {},
   "outputs": [],
   "source": [
    "offense = pd.read_csv(\"\\\\Users\\\\eduar\\\\Football-Player-Market-Value-Project\\\\offense.csv\")\n",
    "defense = pd.read_csv(\"\\\\Users\\\\eduar\\\\Football-Player-Market-Value-Project\\\\defensive.csv\")\n",
    "goalkeepers = pd.read_csv(\"\\\\Users\\\\eduar\\\\Football-Player-Market-Value-Project\\\\goalkeepers.csv\")\n",
    "followers = pd.read_csv(\"\\\\Users\\\\eduar\\\\Football-Player-Market-Value-Project\\\\Number of followers 2021.02.22.csv\")"
   ]
  },
  {
   "cell_type": "markdown",
   "metadata": {},
   "source": [
    "# Convert Data Types That Need Conversion For Offense Dataset"
   ]
  },
  {
   "cell_type": "code",
   "execution_count": 1064,
   "metadata": {},
   "outputs": [],
   "source": [
    "offense.columns = ['Player', 'Season - Club played for', 'Competition name',\n",
    "       'Value currency (million)', 'Market value',\n",
    "       'Current club (20/21 season)', 'Player nationality', 'Player age',\n",
    "       'Position', 'games_appearances', 'mins_played', 'goals', 'goal_assist',\n",
    "       'Average of Attempts per 90 mins weighted by mins_played per _Season - Club - Competition',\n",
    "       'total_scoring_att',\n",
    "       'Average of Attempts on target weighted by mins_played per _Season - Club - Competition (%)',\n",
    "       'Average of Conversion rate weighted by total_scoring_att per _Season - Club - Competition (%)',\n",
    "       'Big chances missed',\n",
    "       'Average of Minute per goal weighted by goals per _Season - Club - Competition',\n",
    "       'Average of Minute per assist weighted by goals per _Season - Club - Competition',\n",
    "       'Average of Minute per goal or assist weighted by goals per _Season - Club - Competition',\n",
    "       'Dribbles per 90 minutes weighted by mins_played per _Season - Club - Competition',\n",
    "       'Offsides per 90 mins weighted by mins_played per _Season - Club - Competition',\n",
    "       'Was fouled per 90 mins weighted by mins_played per _Season - Club - Competition',\n",
    "       'att_pen_goal', 'Penalties missed',\n",
    "       'Average of Penalty conversion rate weighted by mins_played per _Season - Club - Competition (%)']\n",
    "\n",
    "x = []\n",
    "for age in list(offense['Player age']):\n",
    "    x.append(float(str(age).replace(',','.')))\n",
    "offense['Player age'] = x\n",
    "\n",
    "a = 0\n",
    "b = []\n",
    "for num in list(offense['Average of Attempts on target weighted by mins_played per _Season - Club - Competition (%)']):\n",
    "    a = str(num).replace(',','.')\n",
    "    b.append(float(a.replace('%','')))\n",
    "offense['Average of Attempts on target weighted by mins_played per _Season - Club - Competition (%)'] = b\n",
    "\n",
    "a = 0\n",
    "b = []\n",
    "for num in list(offense['Average of Conversion rate weighted by total_scoring_att per _Season - Club - Competition (%)']):\n",
    "    a = str(num).replace(',','.')\n",
    "    b.append(float(a.replace('%','')))\n",
    "offense['Average of Conversion rate weighted by total_scoring_att per _Season - Club - Competition (%)'] = b\n",
    "\n",
    "a = 0\n",
    "b = []\n",
    "for num in list(offense['Average of Penalty conversion rate weighted by mins_played per _Season - Club - Competition (%)']):\n",
    "    a = str(num).replace(',','.')\n",
    "    b.append(float(a.replace('%','')))\n",
    "offense['Average of Penalty conversion rate weighted by mins_played per _Season - Club - Competition (%)'] = b"
   ]
  },
  {
   "cell_type": "markdown",
   "metadata": {},
   "source": [
    "# Selecting Only The Offensive Players"
   ]
  },
  {
   "cell_type": "code",
   "execution_count": 1065,
   "metadata": {},
   "outputs": [],
   "source": [
    "offensive_players = offense[(offense['Position'] == 'FW') | (offense['Position'] == 'LW') | (offense['Position'] == 'RW') | (offense['Position'] == 'AM') | (offense['Position'] == 'CM') & (offense['Competition name'] != 'UEFA Champions League') & (offense['Competition name'] != 'UEFA Europa League') & (offense['Competition name'] != 'German Bundesliga Playoff')]\n",
    "offensive_players = offensive_players.groupby(['Player'], as_index = False).agg('mean')\n",
    "offensive_players = offensive_players.drop(['Average of Penalty conversion rate weighted by mins_played per _Season - Club - Competition (%)', 'Penalties missed', 'att_pen_goal'], axis = 1)\n",
    "offensive_players = offensive_players.fillna(0)"
   ]
  },
  {
   "cell_type": "markdown",
   "metadata": {},
   "source": [
    "# Correlations for The Offensive Players Data Frame"
   ]
  },
  {
   "cell_type": "code",
   "execution_count": 1066,
   "metadata": {},
   "outputs": [],
   "source": [
    "offensive_players_corr = offensive_players.corr(method = 'spearman')"
   ]
  },
  {
   "cell_type": "markdown",
   "metadata": {},
   "source": [
    "# Create a Data Frame To Serve as Index"
   ]
  },
  {
   "cell_type": "code",
   "execution_count": 1067,
   "metadata": {},
   "outputs": [],
   "source": [
    "df1 = pd.DataFrame()\n",
    "for name in offensive_players.columns:\n",
    "    if name != 'Player':\n",
    "        x = sorted(offensive_players[name], key = float)\n",
    "        df1[name] = x"
   ]
  },
  {
   "cell_type": "markdown",
   "metadata": {},
   "source": [
    "# Create Array With the Indexes of Each Players Stats"
   ]
  },
  {
   "cell_type": "code",
   "execution_count": 1068,
   "metadata": {},
   "outputs": [],
   "source": [
    "x = []\n",
    "y = []\n",
    "for i in range(162):\n",
    "    x.append(y)\n",
    "    y = []\n",
    "    for col in offensive_players.columns:\n",
    "        if col != 'Player':\n",
    "            y.append(list(df1[col]).index(offensive_players[col][i]))\n",
    "x.append(y)"
   ]
  },
  {
   "cell_type": "code",
   "execution_count": 1071,
   "metadata": {},
   "outputs": [],
   "source": [
    "#x.pop(0) ###I've done this step but it can't be done more than one time-\n",
    "a = []\n",
    "b = []\n",
    "for lst in x:\n",
    "    b = []\n",
    "    for i in range(17):\n",
    "        b.append((lst[i] - lst[0]) * offensive_players_corr['Market value'][i])\n",
    "    \n",
    "    b.pop(0)   \n",
    "    if 0 > sum(b):\n",
    "        a.append('Over')\n",
    "    else:\n",
    "        a.append('Under')\n"
   ]
  },
  {
   "cell_type": "markdown",
   "metadata": {},
   "source": [
    "# Create Data Frame with The Offensive Players Names and If They are Over or Under Valued"
   ]
  },
  {
   "cell_type": "code",
   "execution_count": 1072,
   "metadata": {},
   "outputs": [],
   "source": [
    "final_df_offensive = pd.DataFrame()"
   ]
  },
  {
   "cell_type": "code",
   "execution_count": 1073,
   "metadata": {},
   "outputs": [],
   "source": [
    "social_media = []\n",
    "for player in list(offensive_players['Player']):\n",
    "    if player in list(followers['Name']):\n",
    "        social_media.append('Influent')\n",
    "    else:\n",
    "        social_media.append('Non-Influent')"
   ]
  },
  {
   "cell_type": "code",
   "execution_count": 1074,
   "metadata": {},
   "outputs": [],
   "source": [
    "justified_overvalue = []\n",
    "for i in range(len(a)):\n",
    "    if (a[i] == 'Over') & (social_media[i] == 'Influent'):\n",
    "        justified_overvalue.append('Justified')\n",
    "    elif (a[i] == 'Over') & (social_media[i] == 'Non-Influent'):\n",
    "        justified_overvalue.append('Unjustified')\n",
    "    else:\n",
    "        justified_overvalue.append('-')"
   ]
  },
  {
   "cell_type": "code",
   "execution_count": 1079,
   "metadata": {},
   "outputs": [],
   "source": [
    "final_df_offensive['Player'] = offensive_players['Player']\n",
    "final_df_offensive['Under or Over Valued According to In-Game Stats'] = a\n",
    "final_df_offensive['Social Media'] = social_media\n",
    "final_df_offensive['Over Value Justification'] = justified_overvalue"
   ]
  },
  {
   "cell_type": "markdown",
   "metadata": {},
   "source": [
    "# Convert Data Types That Need Conversion For Defense Dataset"
   ]
  },
  {
   "cell_type": "code",
   "execution_count": 1080,
   "metadata": {},
   "outputs": [],
   "source": [
    "defense.columns = ['Player', 'Season - Club played for', 'Competition name',\n",
    "       'Value currency (millions)', 'Market value', 'Current club',\n",
    "       'Player nationality', 'Age', 'Position', 'games_appearances',\n",
    "       'mins_played',\n",
    "       'Tackle success rate weighted by total_tackle per _Season - Club - Competition (%)',\n",
    "       'TACKLES (succesful) per 90 mins weighted by mins_played per _Season - Club - Competition',\n",
    "       'Média de CLEARANCES per 90 mins',\n",
    "       'INTERCEPTIONS per 90 mins weighted by mins_played per _Season - Club - Competition',\n",
    "       'BLOCKS per 90 mins weighted by mins_played per _Season - Club - Competition',\n",
    "       'BALL RECOVERY per 90 mins weighted by mins_played per _Season - Club - Competition',\n",
    "       'FOULS per 90 mins weighted by mins_played per _Season - Club - Competition',\n",
    "       'won_tackle', 'Blocked shots/passes/crosses', 'total_clearance',\n",
    "       'interception', 'ball_recovery', 'own_goals', 'error_lead_to_goal',\n",
    "       'penalty_conceded']\n",
    "\n",
    "\n",
    "z = []\n",
    "for age in list(defense['Age']):\n",
    "    z.append(float(str(age).replace(',','.')))\n",
    "defense['Age'] = z\n",
    "\n",
    "a = 0\n",
    "b = []\n",
    "for num in list(defense['Tackle success rate weighted by total_tackle per _Season - Club - Competition (%)']):\n",
    "    a = str(num).replace(',','.')\n",
    "    b.append(float(a.replace('%','')))\n",
    "defense['Tackle success rate weighted by total_tackle per _Season - Club - Competition (%)'] = b"
   ]
  },
  {
   "cell_type": "markdown",
   "metadata": {},
   "source": [
    "# Selecting Only The Defensive Players"
   ]
  },
  {
   "cell_type": "code",
   "execution_count": 1081,
   "metadata": {},
   "outputs": [],
   "source": [
    "defensive_players = defense[(defense['Position'] == 'CB') | (defense['Position'] == 'LB') | (defense['Position'] == 'RB') | (defense['Position'] == 'DM') & (defense['Competition name'] != 'UEFA Champions League') & (defense['Competition name'] != 'UEFA Europa League') & (defense['Competition name'] != 'German Bundesliga Playoff')]\n",
    "defensive_players = defensive_players.groupby(['Player'], as_index = False).agg('mean')\n",
    "defensive_players = defensive_players.fillna(0)"
   ]
  },
  {
   "cell_type": "markdown",
   "metadata": {},
   "source": [
    "# Create a Data Frame To Serve as Index"
   ]
  },
  {
   "cell_type": "code",
   "execution_count": 1082,
   "metadata": {},
   "outputs": [],
   "source": [
    "df1 = pd.DataFrame()\n",
    "for name in defensive_players.columns:\n",
    "    if name != 'Player':\n",
    "        x = sorted(defensive_players[name], key = float)\n",
    "        df1[name] = x"
   ]
  },
  {
   "cell_type": "markdown",
   "metadata": {},
   "source": [
    "# Correlations for The Defensive Players Data Frame"
   ]
  },
  {
   "cell_type": "code",
   "execution_count": 1083,
   "metadata": {},
   "outputs": [],
   "source": [
    "defensive_players_corr = defensive_players.corr(method = 'spearman')"
   ]
  },
  {
   "cell_type": "markdown",
   "metadata": {},
   "source": [
    "# Create Array With the Indexes of Each Players Stats"
   ]
  },
  {
   "cell_type": "code",
   "execution_count": 1084,
   "metadata": {},
   "outputs": [],
   "source": [
    "x = []\n",
    "y = []\n",
    "for i in range(49):\n",
    "    x.append(y)\n",
    "    y = []\n",
    "    for col in defensive_players.columns:\n",
    "        if col != 'Player':\n",
    "            y.append(list(df1[col]).index(defensive_players[col][i]))\n",
    "x.append(y)"
   ]
  },
  {
   "cell_type": "code",
   "execution_count": 1087,
   "metadata": {},
   "outputs": [],
   "source": [
    "#x.pop(0) ###I've done this step but it can't be done more than one time-\n",
    "a = []\n",
    "b = []\n",
    "for lst in x:\n",
    "    b = []\n",
    "    for i in range(17):\n",
    "        b.append((lst[i] - lst[0]) * defensive_players_corr['Market value'][i])\n",
    "    \n",
    "    b.pop(0)   \n",
    "    if 0 > sum(b):\n",
    "        a.append('Over')\n",
    "    else:\n",
    "        a.append('Under')"
   ]
  },
  {
   "cell_type": "markdown",
   "metadata": {},
   "source": [
    "# Create Data Frame with The Defensive Players Names and If They are Over or Under Valued"
   ]
  },
  {
   "cell_type": "code",
   "execution_count": 1088,
   "metadata": {},
   "outputs": [],
   "source": [
    "final_df_defensive = pd.DataFrame()"
   ]
  },
  {
   "cell_type": "code",
   "execution_count": 1089,
   "metadata": {},
   "outputs": [],
   "source": [
    "social_media = []\n",
    "for player in list(defensive_players['Player']):\n",
    "    if player in list(followers['Name']):\n",
    "        social_media.append('Influent')\n",
    "    else:\n",
    "        social_media.append('Non-Influent')"
   ]
  },
  {
   "cell_type": "code",
   "execution_count": 1090,
   "metadata": {},
   "outputs": [],
   "source": [
    "justified_overvalue = []\n",
    "for i in range(len(a)):\n",
    "    if (a[i] == 'Over') & (social_media[i] == 'Influent'):\n",
    "        justified_overvalue.append('Justified')\n",
    "    elif (a[i] == 'Over') & (social_media[i] == 'Non-Influent'):\n",
    "        justified_overvalue.append('Unjustified')\n",
    "    else:\n",
    "        justified_overvalue.append('-')"
   ]
  },
  {
   "cell_type": "code",
   "execution_count": 1091,
   "metadata": {},
   "outputs": [],
   "source": [
    "final_df_defensive['Player'] = defensive_players['Player']\n",
    "final_df_defensive['Under or Over Valued According to In-Game Stats'] = a\n",
    "final_df_defensive['Social Media'] = social_media\n",
    "final_df_defensive['Over Value Justification'] = justified_overvalue"
   ]
  },
  {
   "cell_type": "markdown",
   "metadata": {},
   "source": [
    "# Convert Data Types That Need Conversion For GoalKeeper Dataset"
   ]
  },
  {
   "cell_type": "code",
   "execution_count": 1092,
   "metadata": {},
   "outputs": [],
   "source": [
    "z = []\n",
    "for age in list(goalkeepers['Player age']):\n",
    "    z.append(float(str(age).replace(',','.')))\n",
    "goalkeepers['Player age'] = z\n",
    "\n",
    "z = []\n",
    "for age in list(goalkeepers['Saves per 90 mins weighted by mins_played per _Season - Club - Competition']):\n",
    "    z.append(float(str(age).replace(',','.')))\n",
    "goalkeepers['Saves per 90 mins weighted by mins_played per _Season - Club - Competition'] = z\n",
    "\n",
    "a = 0\n",
    "b = []\n",
    "for num in list(goalkeepers['Average of Save % (overall) weighted by Total attempts faced per _Season - Club - Competition']):\n",
    "    a = str(num).replace(',','.')\n",
    "    b.append(float(a.replace('%','')))\n",
    "goalkeepers['Average of Save % (overall) weighted by Total attempts faced per _Season - Club - Competition'] = b\n",
    "\n",
    "a = 0\n",
    "b = []\n",
    "for num in list(goalkeepers['Average of Save % (attempts outside the box) weighted by Total attempts faced (obox) per _Season - Club - Competition']):\n",
    "    a = str(num).replace(',','.')\n",
    "    b.append(float(a.replace('%','')))\n",
    "goalkeepers['Average of Save % (attempts outside the box) weighted by Total attempts faced (obox) per _Season - Club - Competition'] = b\n",
    "\n",
    "a = 0\n",
    "b = []\n",
    "for num in list(goalkeepers['Average of Save % (attempts in the box) weighted by Total attempts faced (ibox) per _Season - Club - Competition']):\n",
    "    a = str(num).replace(',','.')\n",
    "    b.append(float(a.replace('%','')))\n",
    "goalkeepers['Average of Save % (attempts in the box) weighted by Total attempts faced (ibox) per _Season - Club - Competition'] = b\n",
    "\n",
    "a = 0\n",
    "b = []\n",
    "for num in list(goalkeepers['Penalty save % weighted by penalty_faced per _Season - Club - Competition']):\n",
    "    a = str(num).replace(',','.')\n",
    "    b.append(float(a.replace('%','')))\n",
    "goalkeepers['Penalty save % weighted by penalty_faced per _Season - Club - Competition'] = b"
   ]
  },
  {
   "cell_type": "markdown",
   "metadata": {},
   "source": [
    "# Create a Data Frame To Serve as Index"
   ]
  },
  {
   "cell_type": "code",
   "execution_count": 1093,
   "metadata": {},
   "outputs": [],
   "source": [
    "goalkeepers_df = goalkeepers[(goalkeepers['Competition name'] != 'UEFA Champions League') & (goalkeepers['Competition name'] != 'UEFA Europa League') & (goalkeepers['Competition name'] != 'German Bundesliga Playoff')]\n",
    "goalkeepers_df = goalkeepers_df.groupby(['Player'], as_index = False).agg('mean')\n",
    "\n",
    "df1 = pd.DataFrame()\n",
    "for name in goalkeepers_df.columns:\n",
    "    if name != 'Player':\n",
    "        x = sorted(goalkeepers_df[name], key = float)\n",
    "        df1[name] = x"
   ]
  },
  {
   "cell_type": "markdown",
   "metadata": {},
   "source": [
    "# Correlations for The Goalkeepers Data Frame"
   ]
  },
  {
   "cell_type": "code",
   "execution_count": 1094,
   "metadata": {},
   "outputs": [],
   "source": [
    "goalkeepers_corr = goalkeepers_df.corr(method = 'spearman')"
   ]
  },
  {
   "cell_type": "markdown",
   "metadata": {},
   "source": [
    "# Create Array With the Indexes of Each Players Stats"
   ]
  },
  {
   "cell_type": "code",
   "execution_count": 1095,
   "metadata": {},
   "outputs": [],
   "source": [
    "x = []\n",
    "y = []\n",
    "for i in range(9):\n",
    "    x.append(y)\n",
    "    y = []\n",
    "    for col in goalkeepers_df.columns:\n",
    "        if col != 'Player':\n",
    "            y.append(list(df1[col]).index(goalkeepers_df[col][i]))\n",
    "x.append(y)"
   ]
  },
  {
   "cell_type": "code",
   "execution_count": 1097,
   "metadata": {},
   "outputs": [],
   "source": [
    "#x.pop(0) ###I've done this step but it can't be done more than one time-\n",
    "a = []\n",
    "b = []\n",
    "for lst in x:\n",
    "    b = []\n",
    "    for i in range(14):\n",
    "        b.append((lst[i] - lst[0]) * defensive_players_corr['Market value'][i])\n",
    "    \n",
    "    b.pop(0)   \n",
    "    if 0 > sum(b):\n",
    "        a.append('Over')\n",
    "    else:\n",
    "        a.append('Under')"
   ]
  },
  {
   "cell_type": "markdown",
   "metadata": {},
   "source": [
    "# Create Data Frame with The Offensive Players Names and If They are Over or Under Valued"
   ]
  },
  {
   "cell_type": "code",
   "execution_count": 1098,
   "metadata": {},
   "outputs": [],
   "source": [
    "final_df_goalkeepers = pd.DataFrame()"
   ]
  },
  {
   "cell_type": "code",
   "execution_count": 1099,
   "metadata": {},
   "outputs": [],
   "source": [
    "social_media = []\n",
    "for player in list(goalkeepers_df['Player']):\n",
    "    if player in list(followers['Name']):\n",
    "        social_media.append('Influent')\n",
    "    else:\n",
    "        social_media.append('Non-Influent')"
   ]
  },
  {
   "cell_type": "code",
   "execution_count": 1100,
   "metadata": {},
   "outputs": [],
   "source": [
    "justified_overvalue = []\n",
    "for i in range(len(a)):\n",
    "    if (a[i] == 'Over') & (social_media[i] == 'Influent'):\n",
    "        justified_overvalue.append('Justified')\n",
    "    elif (a[i] == 'Over') & (social_media[i] == 'Non-Influent'):\n",
    "        justified_overvalue.append('Unjustified')\n",
    "    else:\n",
    "        justified_overvalue.append('-')"
   ]
  },
  {
   "cell_type": "code",
   "execution_count": 1101,
   "metadata": {},
   "outputs": [],
   "source": [
    "final_df_goalkeepers['Player'] = goalkeepers_df['Player']\n",
    "final_df_goalkeepers['Under or Over Valued According to In-Game Stats'] = a\n",
    "final_df_goalkeepers['Social Media'] = social_media\n",
    "final_df_goalkeepers['Over Value Justification'] = justified_overvalue"
   ]
  },
  {
   "cell_type": "markdown",
   "metadata": {},
   "source": [
    "# Statistical Testing"
   ]
  },
  {
   "cell_type": "markdown",
   "metadata": {},
   "source": [
    "# Goodness of Fit:"
   ]
  },
  {
   "cell_type": "code",
   "execution_count": 1019,
   "metadata": {},
   "outputs": [],
   "source": [
    "#Assume that the Sports Director claimed that the top offensive players in the top 11 leagues of Europe + English second\n",
    "#division with a market value from 40M to 60M should have ate least this many goals and assists combined by position CM = 8,\n",
    "#AM = 10, FW = 15, LW = 15, FW = 20."
   ]
  },
  {
   "cell_type": "code",
   "execution_count": 1034,
   "metadata": {},
   "outputs": [],
   "source": [
    "off = offense[(offense['Market value'] > 40.0) & (offense['Market value'] < 60.0) & (offense['Competition name'] != 'UEFA Champions League') & (offense['Competition name'] != 'UEFA Europa League') & (offense['Competition name'] != 'German Bundesliga Playoff')]\n",
    "columns_wanted = ['goals', 'goal_assist']\n",
    "off = off.groupby(['Position'], as_index = False)[columns_wanted].agg('mean')\n",
    "off = off[(off['Position'] == 'AM') | (off['Position'] == 'LW') | (off['Position'] == 'RW') | (off['Position'] == 'FW') | (off['Position'] == 'CM')]"
   ]
  },
  {
   "cell_type": "code",
   "execution_count": 1021,
   "metadata": {},
   "outputs": [],
   "source": [
    "goals = list(off['goals'])\n",
    "assists = list(off['goal_assist'])\n",
    "observed = np.array([goals[0] + assists[0], goals[1] + assists[1], goals[2] + assists[2], goals[3] + assists[3], goals[4] + assists[4]])\n",
    "expected = np.array([10, 8, 20, 15, 15])"
   ]
  },
  {
   "cell_type": "markdown",
   "metadata": {},
   "source": [
    "# Perform the Test ChiSquare for a 95% Confidence Level"
   ]
  },
  {
   "cell_type": "code",
   "execution_count": 1022,
   "metadata": {},
   "outputs": [
    {
     "data": {
      "text/plain": [
       "Power_divergenceResult(statistic=5.834964779529258, pvalue=0.21181687181578432)"
      ]
     },
     "execution_count": 1022,
     "metadata": {},
     "output_type": "execute_result"
    }
   ],
   "source": [
    "st.chisquare(observed, expected)"
   ]
  },
  {
   "cell_type": "code",
   "execution_count": 1023,
   "metadata": {},
   "outputs": [
    {
     "name": "stdout",
     "output_type": "stream",
     "text": [
      "We can't refute the expected results. But we can say that the Sports Director claim isn't very accurate\n"
     ]
    }
   ],
   "source": [
    "print(\"We can't refute the expected results. But we can say that the Sports Director claim isn't very accurate\")"
   ]
  },
  {
   "cell_type": "markdown",
   "metadata": {},
   "source": [
    "# Confidence Intervals:"
   ]
  },
  {
   "cell_type": "code",
   "execution_count": 1024,
   "metadata": {},
   "outputs": [],
   "source": [
    "# The sports director believes that the club needs to by reinforced in the defense, midfield and attack, buying players\n",
    "#that need to fulfill some requirements And he wants me to check what is the price that the club should pay for a player in\n",
    "#order for the club to be almost sure that he will fulfill those requirements"
   ]
  },
  {
   "cell_type": "code",
   "execution_count": 1025,
   "metadata": {},
   "outputs": [],
   "source": [
    "#He wants to know how high he can expect the AVERAGE (THE CONFIDENCE INTERVAL LOSES MEANING IF IT IS NOT THE AVERAGE)\n",
    "#market value to be for a player from a more attacking nature that can play any of the front 3 positions (LW, RW, FW),\n",
    "#that can score on average more than 10 goals per season in the league"
   ]
  },
  {
   "cell_type": "code",
   "execution_count": 1108,
   "metadata": {},
   "outputs": [
    {
     "name": "stdout",
     "output_type": "stream",
     "text": [
      "(59.533361382292306, 104.3733052843744)\n"
     ]
    }
   ],
   "source": [
    "off = offense[(offense['Competition name'] != 'UEFA Champions League') & (offense['Competition name'] != 'UEFA Europa League') & (offense['Competition name'] != 'German Bundesliga Playoff') & (offense['Position'] == 'LW') | (offense['Position'] == 'RW') | (offense['Position'] == 'FW') ]\n",
    "columns_wanted = ['goals', 'Market value']\n",
    "off = off.groupby(['Player'], as_index = False)[columns_wanted].agg('mean')\n",
    "off = off[off['goals'] > 9.9]\n",
    "\n",
    "sample = off['Market value'].sample(15)\n",
    "n = len(sample)\n",
    "mean = np.mean(sample)\n",
    "sem = st.sem(sample)\n",
    "z = st.t.ppf(0.95, n-1)\n",
    "h = sem*z\n",
    "CI = (mean-h, mean+h)\n",
    "print(CI)"
   ]
  },
  {
   "cell_type": "code",
   "execution_count": 1027,
   "metadata": {},
   "outputs": [],
   "source": [
    "#Unfortunately we can only buy players that are valued between 20M and 40M for a player for those position"
   ]
  },
  {
   "cell_type": "code",
   "execution_count": 1028,
   "metadata": {},
   "outputs": [
    {
     "name": "stdout",
     "output_type": "stream",
     "text": [
      "(3.8138195780743906, 6.35655079229598)\n"
     ]
    }
   ],
   "source": [
    "off = offense[(offense['Competition name'] != 'UEFA Champions League') & (offense['Competition name'] != 'UEFA Europa League') & (offense['Competition name'] != 'German Bundesliga Playoff') & (offense['Position'] == 'LW') | (offense['Position'] == 'RW') | (offense['Position'] == 'FW')]\n",
    "columns_wanted = ['goals', 'Market value']\n",
    "off = off.groupby(['Player'], as_index = False)[columns_wanted].agg('mean')\n",
    "off = off[(off['Market value'] < 40.1) & (off['Market value'] > 19.9)]\n",
    "\n",
    "sample = off['goals'].sample(15)\n",
    "n = len(sample)\n",
    "mean = np.mean(sample)\n",
    "sem = st.sem(sample)\n",
    "z = st.t.ppf(0.95, n-1)\n",
    "h = sem*z\n",
    "CI = (mean-h, mean+h)\n",
    "print(CI)\n",
    "##Explanation, with this confidence interval we know that if the club buys a player between 20 and 40 million market value,\n",
    "##from those positions, independently of the status (recently injured, age, etc) that player will almost definitely score on\n",
    "#average a number that is in this confident interval. This way the sports director can be happy with these values or he can\n",
    "#realize that this isn't good enough and needs to press the club for more funds.\n",
    "#The reason why we use a confidence interval and simply don't create an interval that goes from the player in the original\n",
    "#dataset that as less goals to the one that has more goals is because the status of the player can vary a lot, and we only\n",
    "#want to know the average that we can expect."
   ]
  },
  {
   "cell_type": "code",
   "execution_count": 1029,
   "metadata": {},
   "outputs": [],
   "source": [
    "#He wants to know how high he can expect the AVERAGE (THE CONFIDENCE INTERVAL LOSES MEANING IF IT IS NOT THE AVERAGE)\n",
    "#market value to be for a player from a more attacking nature that can play any of the more attacking midfield positions\n",
    "#(CM, AM), that can score 2 goals or more and provide 4 assists or more per season in the league"
   ]
  },
  {
   "cell_type": "code",
   "execution_count": 1033,
   "metadata": {},
   "outputs": [
    {
     "name": "stdout",
     "output_type": "stream",
     "text": [
      "(39.87771674808794, 60.45561658524539)\n"
     ]
    }
   ],
   "source": [
    "off = offense[(offense['Competition name'] != 'UEFA Champions League') & (offense['Competition name'] != 'UEFA Europa League') & (offense['Competition name'] != 'German Bundesliga Playoff') & (offense['Position'] == 'CM') | (offense['Position'] == 'AM')]\n",
    "columns_wanted = ['goals', 'Market value', 'goal_assist']\n",
    "off = off.groupby(['Player'], as_index = False)[columns_wanted].agg('mean')\n",
    "off = off[(off['goals'] > 1.9) & (off['goal_assist'] > 3.9)]\n",
    "\n",
    "sample = off['Market value'].sample(15)\n",
    "n = len(sample)\n",
    "mean = np.mean(sample)\n",
    "sem = st.sem(sample)\n",
    "z = st.t.ppf(0.95, n-1)\n",
    "h = sem*z\n",
    "CI = (mean-h, mean+h)\n",
    "print(CI)\n",
    "\n",
    "##With these values the sports director realizes that the avg market value of players in the midfield with such requirements\n",
    "#is too high so he doesn't want to buy any player for these positions"
   ]
  },
  {
   "cell_type": "code",
   "execution_count": 1031,
   "metadata": {},
   "outputs": [],
   "source": [
    "#He wants to know how high he can expect the AVERAGE (THE CONFIDENCE INTERVAL LOSES MEANING IF IT IS NOT THE AVERAGE)\n",
    "#market value to be for a player from a more defensive nature that can play any of the more defending positions in the mid\n",
    "#and in the defense (DM, CB, LB, RB), with 1.5 or more interceptions per 90 mins per mins playerd, 6.5 or more ball\n",
    "#recoveries per 90 mins per mins played and 1.5 sucessful tackles per 90 mins per mins played because he want a very\n",
    "#pressing and agressive defense that wins the ball a lot during the game"
   ]
  },
  {
   "cell_type": "code",
   "execution_count": 1032,
   "metadata": {},
   "outputs": [
    {
     "name": "stdout",
     "output_type": "stream",
     "text": [
      "(40.19638262550956, 64.61695070782378)\n"
     ]
    }
   ],
   "source": [
    "columns_wanted = ['INTERCEPTIONS per 90 mins weighted by mins_played per _Season - Club - Competition', 'BALL RECOVERY per 90 mins weighted by mins_played per _Season - Club - Competition', 'TACKLES (succesful) per 90 mins weighted by mins_played per _Season - Club - Competition']\n",
    "defe = defensive_players[(defensive_players['INTERCEPTIONS per 90 mins weighted by mins_played per _Season - Club - Competition'] > 1.4) & (defensive_players['BALL RECOVERY per 90 mins weighted by mins_played per _Season - Club - Competition'] > 6.4) & (defensive_players['TACKLES (succesful) per 90 mins weighted by mins_played per _Season - Club - Competition'] > 1.4)]\n",
    "\n",
    "\n",
    "sample = off['Market value'].sample(15)\n",
    "n = len(sample)\n",
    "mean = np.mean(sample)\n",
    "sem = st.sem(sample)\n",
    "z = st.t.ppf(0.95, n-1)\n",
    "h = sem*z\n",
    "CI = (mean-h, mean+h)\n",
    "print(CI)\n",
    "\n",
    "#Again he is happy with the results"
   ]
  },
  {
   "cell_type": "code",
   "execution_count": null,
   "metadata": {},
   "outputs": [],
   "source": []
  }
 ],
 "metadata": {
  "kernelspec": {
   "display_name": "Python 3",
   "language": "python",
   "name": "python3"
  },
  "language_info": {
   "codemirror_mode": {
    "name": "ipython",
    "version": 3
   },
   "file_extension": ".py",
   "mimetype": "text/x-python",
   "name": "python",
   "nbconvert_exporter": "python",
   "pygments_lexer": "ipython3",
   "version": "3.8.3"
  }
 },
 "nbformat": 4,
 "nbformat_minor": 4
}
